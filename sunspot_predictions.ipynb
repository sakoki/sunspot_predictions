{
 "cells": [
  {
   "cell_type": "markdown",
   "metadata": {},
   "source": [
    "# DARPA Sunspot Prediction Challenge\n",
    "\n",
    "*Author: Koki Sasagawa*  \n",
    "*Date: 4/22/2019*\n",
    "\n",
    "Use the sunspot data provided by DARPA and make predictions of future sunspots. \n",
    "\n",
    "Data: Yearly mean total sunspot number obtained by taking a simple arithmetic mean of the daily sunspot number over all days of each year (1700 - 2018)."
   ]
  }
 ],
 "metadata": {
  "kernelspec": {
   "display_name": "Python 3",
   "language": "python",
   "name": "python3"
  },
  "language_info": {
   "codemirror_mode": {
    "name": "ipython",
    "version": 3
   },
   "file_extension": ".py",
   "mimetype": "text/x-python",
   "name": "python",
   "nbconvert_exporter": "python",
   "pygments_lexer": "ipython3",
   "version": "3.7.0"
  }
 },
 "nbformat": 4,
 "nbformat_minor": 2
}
